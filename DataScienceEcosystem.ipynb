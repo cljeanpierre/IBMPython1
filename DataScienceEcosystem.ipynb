{
 "cells": [
  {
   "cell_type": "markdown",
   "id": "1900ac96-d1a4-4456-ac4a-733009d53860",
   "metadata": {},
   "source": [
    "# Data Science Tools and Ecosystem"
   ]
  },
  {
   "cell_type": "markdown",
   "id": "c33dec45-413a-4825-9c00-9911cfcda996",
   "metadata": {},
   "source": [
    "### In this notebook, Data Science Tools and Ecosystem are summarized"
   ]
  },
  {
   "cell_type": "markdown",
   "id": "b3e265e5-6958-42b2-8f96-b8db2f4001d3",
   "metadata": {},
   "source": [
    "## Objectives:\n",
    "\n",
    "* List popular languages for data scientists\n",
    "* List libraries commonly used by data scientists\n",
    "* List data science tools\n",
    "* Give examples of arithmetic expressions in Python"
   ]
  },
  {
   "cell_type": "markdown",
   "id": "2dd718b7-157d-4070-b536-159f51978ee2",
   "metadata": {},
   "source": [
    "Some of the most popular programming languages Data Scientists use are\n",
    "\n",
    "1. Python\n",
    "2. Java\n",
    "3. C++"
   ]
  },
  {
   "cell_type": "markdown",
   "id": "63281c9a-144f-4071-8a9d-d4e69d86daa1",
   "metadata": {},
   "source": [
    "Some of the most commonly used libraries by Data Scientists are \n",
    "\n",
    "1. Pandas\n",
    "2. NumPy\n",
    "3. Matplotlib"
   ]
  },
  {
   "cell_type": "markdown",
   "id": "6f19fc55-2924-4290-978a-fcbc3bc472dd",
   "metadata": {},
   "source": [
    "| Data Science Tools |\n",
    "|:-------------------|\n",
    "| Jupyter Notebook   |\n",
    "| RStudio            |\n",
    "| Visual Studio Code |\n"
   ]
  },
  {
   "cell_type": "markdown",
   "id": "a7ee48c3-a986-40da-bf89-2192e4c96975",
   "metadata": {},
   "source": [
    "### Below are a few examples of evaluating arithmetic expressions in Python.\n"
   ]
  },
  {
   "cell_type": "code",
   "execution_count": 3,
   "id": "38422f7a-61ae-4d4f-85a0-020d25d66a52",
   "metadata": {},
   "outputs": [
    {
     "data": {
      "text/plain": [
       "17"
      ]
     },
     "execution_count": 3,
     "metadata": {},
     "output_type": "execute_result"
    }
   ],
   "source": [
    "# This is a simple arithmetic expression to multiply then add integers:\n",
    "\n",
    "(3*4)+5"
   ]
  },
  {
   "cell_type": "code",
   "execution_count": 7,
   "id": "392f2010-5627-4db4-acdb-144da6f09012",
   "metadata": {},
   "outputs": [
    {
     "name": "stdout",
     "output_type": "stream",
     "text": [
      "3.33 hours\n"
     ]
    }
   ],
   "source": [
    "# This will convert 200 minutes to hours by dividing by 60:\n",
    "\n",
    "converter = round(200 / 60, 2)\n",
    "print(str(converter) + \" hours\")\n"
   ]
  },
  {
   "cell_type": "markdown",
   "id": "d2fd698d-1861-4dc3-ac4f-b2300bc6ddfe",
   "metadata": {},
   "source": [
    "## Author\n",
    "Carla L. Jeanpierre"
   ]
  },
  {
   "cell_type": "code",
   "execution_count": null,
   "id": "1b1b7629-85d0-4c06-af7c-f527c9f98567",
   "metadata": {},
   "outputs": [],
   "source": []
  }
 ],
 "metadata": {
  "kernelspec": {
   "display_name": "Python 3 (ipykernel)",
   "language": "python",
   "name": "python3"
  },
  "language_info": {
   "codemirror_mode": {
    "name": "ipython",
    "version": 3
   },
   "file_extension": ".py",
   "mimetype": "text/x-python",
   "name": "python",
   "nbconvert_exporter": "python",
   "pygments_lexer": "ipython3",
   "version": "3.12.4"
  }
 },
 "nbformat": 4,
 "nbformat_minor": 5
}
